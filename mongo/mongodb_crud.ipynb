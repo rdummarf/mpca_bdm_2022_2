{
 "cells": [
  {
   "cell_type": "code",
   "execution_count": 2,
   "id": "ac05c7f8-9bcb-4dfc-a3bb-f35ee0305ca6",
   "metadata": {},
   "outputs": [],
   "source": [
    "import pandas as pd\n",
    "import numpy as np\n",
    "from pprint import pprint"
   ]
  },
  {
   "cell_type": "code",
   "execution_count": 3,
   "id": "1cc09fc1-bf8d-4353-92d9-bb11183045b8",
   "metadata": {},
   "outputs": [],
   "source": [
    "from pymongo import MongoClient"
   ]
  },
  {
   "cell_type": "code",
   "execution_count": 4,
   "id": "35bfd632-4bd8-4b9f-96f2-0342f3a36619",
   "metadata": {},
   "outputs": [],
   "source": [
    "pd.set_option('display.max_columns', 0)"
   ]
  },
  {
   "cell_type": "code",
   "execution_count": 5,
   "id": "59ff5ea0-2e68-42ee-b0a2-effcce902776",
   "metadata": {},
   "outputs": [],
   "source": [
    "def carregarDF():\n",
    "    \n",
    "    df_sub = pd.read_csv(f\"../../Enem2021/dados/MICRODADOS_ENEM_2021.csv\", sep=\";\", encoding=\"ISO-8859-1\")\n",
    "    #df = pd.read_csv(f\"./data/tb{table_load.lower()}.csv\", sep=\";\", encoding=\"latin1\", error_bad_lines=False)\n",
    "    \n",
    "    df_sub.fillna(0, inplace=True)\n",
    "    \n",
    "    return df_sub \n",
    "\n",
    "def carregarDFamostra():\n",
    "    \n",
    "    df_sub = pd.read_csv(f\"../dados/base_enem_amostra.csv\"\n",
    "                         , sep=\";\"\n",
    "                         , encoding=\"ISO-8859-1\")\n",
    "    \n",
    "    return df_sub\n",
    "\n",
    "def gerarDFamostra(df_sub,qtd_rows):\n",
    "    \n",
    "    return df_sub.sample(qtd_rows,random_state = 1)\n",
    "\n",
    "def gravarDFamostra(df_sub):\n",
    "    \n",
    "    df_sub.to_csv(f\"../dados/base_enem_amostra.csv\"\n",
    "                  , sep = \";\"\n",
    "                  , encoding=\"ISO-8859-1\"\n",
    "                  , index=False)"
   ]
  },
  {
   "cell_type": "code",
   "execution_count": null,
   "id": "24a2f49c-c9a1-4c16-8ac2-c883a55b1e06",
   "metadata": {},
   "outputs": [],
   "source": [
    "%%time\n",
    "# Carrega o dataframe com as informações do ENEM\n",
    "df = carregarDF()\n",
    "df.shape"
   ]
  },
  {
   "cell_type": "code",
   "execution_count": null,
   "id": "c2249700-48e3-4609-97d5-47cacec383fa",
   "metadata": {},
   "outputs": [],
   "source": [
    "%%time\n",
    "# Gera a base de amostras\n",
    "df_amostra = gerarDFamostra(df, 1000000)\n",
    "\n",
    "# Grava a base de amostras em arquivo\n",
    "gravarDFamostra(df_amostra)"
   ]
  },
  {
   "cell_type": "code",
   "execution_count": 6,
   "id": "6200b863-86ea-4356-a97d-6ce897e0ecdb",
   "metadata": {},
   "outputs": [
    {
     "name": "stdout",
     "output_type": "stream",
     "text": [
      "CPU times: user 7.14 s, sys: 1.08 s, total: 8.22 s\n",
      "Wall time: 8.24 s\n"
     ]
    },
    {
     "data": {
      "text/plain": [
       "(1000000, 76)"
      ]
     },
     "execution_count": 6,
     "metadata": {},
     "output_type": "execute_result"
    }
   ],
   "source": [
    "%%time\n",
    "# Carrega a base de amostras, para trabalhar com ela no artigo\n",
    "df = carregarDFamostra()\n",
    "df.shape"
   ]
  },
  {
   "cell_type": "code",
   "execution_count": 7,
   "id": "7f3b611b-7feb-4e92-a8bf-0668d93908fa",
   "metadata": {},
   "outputs": [
    {
     "name": "stdout",
     "output_type": "stream",
     "text": [
      "CPU times: user 295 ms, sys: 115 ms, total: 410 ms\n",
      "Wall time: 409 ms\n"
     ]
    }
   ],
   "source": [
    "%%time\n",
    "df['TP_PRESENCA_CN'] = df['TP_PRESENCA_CN'].astype(int)\n",
    "df['TP_PRESENCA_CH'] = df['TP_PRESENCA_CH'].astype(int)\n",
    "df['TP_PRESENCA_LC'] = df['TP_PRESENCA_LC'].astype(int)\n",
    "df['TP_PRESENCA_MT'] = df['TP_PRESENCA_MT'].astype(int)\n",
    "df['TP_STATUS_REDACAO'] = df['TP_STATUS_REDACAO'].astype(int)\n",
    "\n",
    "# Converte a coluna QTD MORADORES para FLOAT\n",
    "df['Q005'] = df['Q005'].astype(float) # QTD MORADORES\n",
    "\n",
    "df['NU_NOTA_REDACAO'] = df['NU_NOTA_REDACAO'].astype(float)\n",
    "\n",
    "# Converte os códigos das provas para INT\n",
    "df['CO_PROVA_LC'] = df['CO_PROVA_LC'].astype(int)\n",
    "df['CO_PROVA_CH'] = df['CO_PROVA_CH'].astype(int)\n",
    "df['CO_PROVA_CN'] = df['CO_PROVA_CN'].astype(int)\n",
    "df['CO_PROVA_MT'] = df['CO_PROVA_MT'].astype(int)"
   ]
  },
  {
   "cell_type": "code",
   "execution_count": null,
   "id": "060220e0-a0b0-4743-8a59-e750e85165f6",
   "metadata": {},
   "outputs": [],
   "source": [
    "# df_enem_2021[2000000:].to_csv('../Enem2021/dados/df_enem_2021_2M-end.csv'\n",
    "#                                , index=False)"
   ]
  },
  {
   "cell_type": "code",
   "execution_count": null,
   "id": "7ad1098c-e132-4ffd-8685-9c9d540785d4",
   "metadata": {},
   "outputs": [],
   "source": [
    "df.info(verbose=True)\n"
   ]
  },
  {
   "cell_type": "code",
   "execution_count": null,
   "id": "d4addc51-015f-48c7-9984-738439bedfe5",
   "metadata": {},
   "outputs": [],
   "source": [
    "# #df_enem_2021_inicio = df_enem_2021[0:200000]\n",
    "# df_enem_2021_resto = df_enem_2021[200000:2000000]\n",
    "# df_enem_2021_resto_mesmo = df_enem_2021[2000000:]"
   ]
  },
  {
   "cell_type": "code",
   "execution_count": null,
   "id": "f4d0f32d-c7b9-4d3b-8748-4c81caa6cf10",
   "metadata": {},
   "outputs": [],
   "source": [
    "# print(df_enem_2021_inicio.shape)\n",
    "# print(df_enem_2021_resto.shape)\n",
    "# print(df_enem_2021_resto_mesmo.shape)"
   ]
  },
  {
   "cell_type": "code",
   "execution_count": null,
   "id": "58825d38-211c-45c9-9b32-41c4622b6a44",
   "metadata": {},
   "outputs": [],
   "source": [
    "#df_enem_2021_resto.to_csv('df_enem_2021_resto_mesmo.csv', index=False)"
   ]
  },
  {
   "cell_type": "code",
   "execution_count": 8,
   "id": "641e220e-e896-40d4-a21d-a61ed0369df1",
   "metadata": {},
   "outputs": [],
   "source": [
    "def get_connection():\n",
    "    # Provide the mongodb atlas url to connect python to mongodb using pymongo\n",
    "    CONNECTION_STRING = \"mongodb://mongo1:27017,mongo2:27018,mongo3:27019/?replicaSet=myReplicaSet\"\n",
    "\n",
    "    # Create a connection using MongoClient. You can import MongoClient or use pymongo.MongoClient\n",
    "    client = MongoClient(CONNECTION_STRING)\n",
    "\n",
    "    return client\n",
    "    # Create the database for our example (we will use the same database throughout the tutorial\n"
   ]
  },
  {
   "cell_type": "code",
   "execution_count": 9,
   "id": "3f46b8eb-8458-4a94-9125-68528e46557d",
   "metadata": {},
   "outputs": [],
   "source": [
    "def create_database(client_sub, dbname_sub):\n",
    "    \n",
    "    return client_sub[dbname_sub]"
   ]
  },
  {
   "cell_type": "code",
   "execution_count": 13,
   "id": "b654f67b-5889-45d3-b4b3-6991ce720f17",
   "metadata": {},
   "outputs": [
    {
     "name": "stdout",
     "output_type": "stream",
     "text": [
      "MongoClient(host=['mongo1:27017', 'mongo3:27019', 'mongo2:27018'], document_class=dict, tz_aware=False, connect=True, replicaset='myReplicaSet')\n"
     ]
    }
   ],
   "source": [
    "client = get_connection()\n",
    "print(client)"
   ]
  },
  {
   "cell_type": "code",
   "execution_count": 14,
   "id": "26203643-6d2b-4f87-9d2c-0a107265549a",
   "metadata": {},
   "outputs": [
    {
     "name": "stdout",
     "output_type": "stream",
     "text": [
      "Database(MongoClient(host=['mongo1:27017', 'mongo3:27019', 'mongo2:27018'], document_class=dict, tz_aware=False, connect=True, replicaset='myReplicaSet'), 'db_enem_2021')\n"
     ]
    }
   ],
   "source": [
    "dbname = create_database(client, 'db_enem_2021')\n",
    "print(dbname)"
   ]
  },
  {
   "cell_type": "code",
   "execution_count": 15,
   "id": "01f59cd8-d2d2-4aa0-8019-9e452d7f5035",
   "metadata": {},
   "outputs": [
    {
     "name": "stdout",
     "output_type": "stream",
     "text": [
      "Collection(Database(MongoClient(host=['mongo1:27017', 'mongo3:27019', 'mongo2:27018'], document_class=dict, tz_aware=False, connect=True, replicaset='myReplicaSet'), 'db_enem_2021'), 'tb_geral')\n"
     ]
    }
   ],
   "source": [
    "collection_name = dbname[\"tb_geral\"]\n",
    "print(collection_name)"
   ]
  },
  {
   "cell_type": "code",
   "execution_count": null,
   "id": "53fdd497-11a1-4a36-8466-45c801ca47b7",
   "metadata": {},
   "outputs": [],
   "source": [
    "%%time\n",
    "# Converte o dataframe para o formato [{column -> value}, … , {column -> value}]\n",
    "df = df.to_dict('records')\n",
    "\n"
   ]
  },
  {
   "cell_type": "code",
   "execution_count": null,
   "id": "bd5f0283-6bda-49f9-8ccd-d9575c9ec49f",
   "metadata": {},
   "outputs": [],
   "source": [
    "%%time\n",
    "# Remove nulos\n",
    "#df_enem_2021_dict_notna = [ {k:v for k,v in m.items() if pd.notnull(v)} for m in df_enem_2021.to_dict('records')]\n",
    "#df_enem_2021_dict_notna"
   ]
  },
  {
   "cell_type": "code",
   "execution_count": null,
   "id": "4dc63f2b-b618-4618-b6e0-3ddd77e34696",
   "metadata": {},
   "outputs": [],
   "source": [
    "len(df)"
   ]
  },
  {
   "cell_type": "code",
   "execution_count": null,
   "id": "eefed241-614f-44d4-8c20-975fbd6d58e9",
   "metadata": {},
   "outputs": [],
   "source": [
    "%%time\n",
    "\n",
    "client = get_connection()\n",
    "dbname = create_database(client, 'db_enem_2021')\n",
    "collection_name = dbname[\"enem_2021\"]\n",
    "\n",
    "count = 4\n",
    "x = 200000 * count\n",
    "\n",
    "inicio = 0 + x\n",
    "fim = 200000 + x\n",
    "\n",
    "print(f\"Inserção dos registros (count={count}) {inicio:,.0f} a {fim:,.0f}\")\n",
    "print()\n",
    "collection_name.insert_many(df[inicio:fim])\n",
    "\n",
    "client.close()\n"
   ]
  },
  {
   "cell_type": "code",
   "execution_count": null,
   "id": "0a277d85-0d19-4867-bf06-d2ace329eb78",
   "metadata": {},
   "outputs": [],
   "source": [
    "#dbname.drop_collection(collection_name)"
   ]
  },
  {
   "cell_type": "markdown",
   "id": "82e1630e-aca7-4876-ae26-c2b7efec36da",
   "metadata": {},
   "source": [
    "## Delete "
   ]
  },
  {
   "cell_type": "code",
   "execution_count": null,
   "id": "e75ea4af-b4c9-4154-ad37-578fcb03271a",
   "metadata": {},
   "outputs": [],
   "source": [
    "print(collection_name)"
   ]
  },
  {
   "cell_type": "code",
   "execution_count": null,
   "id": "0c75ea34-0bbf-43c9-8dab-bd3b51d70650",
   "metadata": {},
   "outputs": [],
   "source": [
    "%%time\n",
    "\n",
    "client = get_connection()\n",
    "dbname = create_database(client, 'db_enem_2021')\n",
    "collection_name = dbname[\"enem_2021\"]\n",
    "\n",
    "collection_name.delete_many( {\"$or\": [{ 'TP_PRESENCA_CN' : {\"$ne\" : 1 } }\n",
    "                                         ,{ 'TP_PRESENCA_CH' : {\"$ne\" : 1 } }\n",
    "                                         ,{ 'TP_PRESENCA_LC' : {\"$ne\" : 1 } }\n",
    "                                         ,{ 'TP_PRESENCA_MT' : {\"$ne\" : 1 } }\n",
    "                                         ,{ 'TP_STATUS_REDACAO' : {\"$ne\" : 1 }}]})\n",
    "\n",
    "client.close()\n"
   ]
  },
  {
   "cell_type": "markdown",
   "id": "a83e9a53-8ad4-479c-93d2-9ef1497355a1",
   "metadata": {},
   "source": [
    "### UPDATE\n",
    "#### Atualiza a coluna REGIAO pela região do local de prova do inscrito"
   ]
  },
  {
   "cell_type": "code",
   "execution_count": null,
   "id": "9287cea7-3d76-4f35-ba5b-a0cf38eb7aaa",
   "metadata": {},
   "outputs": [],
   "source": [
    "%%time\n",
    "result = collection_name.update_many(\n",
    "    filter={} ,\n",
    "    update=[\n",
    "        {\n",
    "            \"$set\": {\n",
    "                \"regiao\": None,\n",
    "            }\n",
    "       },\n",
    "   ],\n",
    ")"
   ]
  },
  {
   "cell_type": "code",
   "execution_count": null,
   "id": "2301e9cd-2877-4e6f-9d14-2cdb288c4563",
   "metadata": {},
   "outputs": [],
   "source": [
    "%%time\n",
    "client = get_connection()\n",
    "dbname = create_database(client, 'db_enem_2021')\n",
    "collection_name = dbname[\"enem_2021\"]\n",
    "\n",
    "collection_name.updateMany(\n",
    "    filter={} ,\n",
    "   { \"$unset\": { \"regiao\": \"\"} })\n",
    "client.close()"
   ]
  },
  {
   "cell_type": "code",
   "execution_count": null,
   "id": "dea0a5e4-4deb-4fe0-9ba2-17cd0f1fcb99",
   "metadata": {},
   "outputs": [],
   "source": [
    "%%time\n",
    "\n",
    "client = get_connection()\n",
    "dbname = create_database(client, 'db_enem_2021')\n",
    "collection_name = dbname[\"enem_2021\"]\n",
    "\n",
    "# result = collection.update_many({'NU_INSCRICAO': '210053865474'}, {\"$set\":{\"created\": \"$Q025\"}})\n",
    "#result.matched_count\n",
    "\n",
    "\n",
    "result = collection_name.update_many(\n",
    "    filter={\"SG_UF_PROVA\": {\"$in\": ['DF', 'GO', 'MS', 'MT']}} ,\n",
    "    update=[\n",
    "        {\n",
    "            \"$set\": {\n",
    "                \"regiao\": 'CO',\n",
    "            }\n",
    "       },\n",
    "   ],\n",
    ")\n",
    "\n",
    "print(f'Update Centro-oeste = {result.matched_count}')\n",
    "\n",
    "result = collection_name.update_many(\n",
    "    filter={\"SG_UF_PROVA\": {\"$in\": ['MA', 'PB', 'PE', 'PI', 'RN', 'SE', 'AL', 'BA', 'CE']}} ,\n",
    "    update=[\n",
    "        {\n",
    "            \"$set\": {\n",
    "                \"regiao\": 'NE',\n",
    "            }\n",
    "       },\n",
    "   ],\n",
    ")\n",
    "\n",
    "print(f'Update Nordeste = {result.matched_count}')\n",
    "\n",
    "result = collection_name.update_many(\n",
    "    filter={\"SG_UF_PROVA\": {\"$in\": ['AC', 'PA', 'RO', 'RR', 'TO', 'AM', 'AP']}} ,\n",
    "    update=[\n",
    "        {\n",
    "            \"$set\": {\n",
    "                \"regiao\": 'N',\n",
    "            }\n",
    "       },\n",
    "   ],\n",
    ")\n",
    "\n",
    "print(f'Update Norte = {result.matched_count}')\n",
    "\n",
    "\n",
    "result = collection_name.update_many(\n",
    "    filter={\"SG_UF_PROVA\": {\"$in\": ['ES', 'MG', 'RJ', 'SP']}} ,\n",
    "    update=[\n",
    "        {\n",
    "            \"$set\": {\n",
    "                \"regiao\": 'SE',\n",
    "            }\n",
    "       },\n",
    "   ],\n",
    ")\n",
    "\n",
    "print(f'Update Sudeste = {result.matched_count}')\n",
    "\n",
    "result = collection_name.update_many(\n",
    "    filter={\"SG_UF_PROVA\": {\"$in\": ['RS', 'SC', 'PR']}} ,\n",
    "    update=[\n",
    "        {\n",
    "            \"$set\": {\n",
    "                \"regiao\": 'S',\n",
    "            }\n",
    "       },\n",
    "   ],\n",
    ")\n",
    "\n",
    "print(f'Update Sul = {result.matched_count}')\n",
    "client.close()\n"
   ]
  },
  {
   "cell_type": "code",
   "execution_count": null,
   "id": "9df8e139-b86b-4c39-bb09-bb507053b6ee",
   "metadata": {},
   "outputs": [],
   "source": [
    "# #collection_name.count_documents({})\n",
    "# collection_name.find_one({})"
   ]
  },
  {
   "cell_type": "markdown",
   "id": "25ccde12-5d2b-4ff5-82a4-9ec72c924ba6",
   "metadata": {},
   "source": [
    "### SELECT 1\n",
    "#### Selecionar 10 inscritos, por número de inscrição, fazendo um loop e NU_INSCRICAO aleatório, com random_state do sample igual ao contador do loop"
   ]
  },
  {
   "cell_type": "code",
   "execution_count": null,
   "id": "5664321b-37dc-4c60-828a-710a2cb73d39",
   "metadata": {},
   "outputs": [],
   "source": [
    "%%time\n",
    "# Carrega a base de amostras, para trabalhar com ela no artigo\n",
    "df = carregarDFamostra()\n",
    "df.shape"
   ]
  },
  {
   "cell_type": "code",
   "execution_count": null,
   "id": "34ff8779-b6ef-4d03-965b-7b91fc686e62",
   "metadata": {},
   "outputs": [],
   "source": [
    "df = df[(df['TP_PRESENCA_CN'] == 1) & \n",
    "   (df['TP_PRESENCA_CH'] == 1) & \n",
    "   (df['TP_PRESENCA_LC'] == 1) & \n",
    "   (df['TP_PRESENCA_MT'] == 1) & \n",
    "   (df['TP_STATUS_REDACAO'] == 1)]"
   ]
  },
  {
   "cell_type": "code",
   "execution_count": null,
   "id": "8e2ac426-b62f-4e6f-940f-109d00571ab7",
   "metadata": {},
   "outputs": [],
   "source": [
    "df['NU_INSCRICAO'].head(2)"
   ]
  },
  {
   "cell_type": "code",
   "execution_count": null,
   "id": "d4cfadb8-b4b1-40e0-b6cd-b5e945ecfc98",
   "metadata": {},
   "outputs": [],
   "source": [
    "client = get_connection()\n",
    "dbname = create_database(client, 'db_enem_2021')\n",
    "collection_name = dbname[\"enem_2021\"]\n",
    "\n",
    "random_nu_inscricao = 210051738295\n",
    "cur = collection_name.find({\"NU_INSCRICAO\" : random_nu_inscricao})\n",
    "\n",
    "for doc in cur:\n",
    "    print(doc)\n",
    "\n",
    "client.close()"
   ]
  },
  {
   "cell_type": "code",
   "execution_count": null,
   "id": "6622ee94-c6f1-42d9-b09b-a66e4b589ac6",
   "metadata": {},
   "outputs": [],
   "source": [
    "%%time\n",
    "\n",
    "for i in range(10):\n",
    "    random_nu_inscricao = df.sample(1, random_state=i)['NU_INSCRICAO'].item()\n",
    "    \n",
    "    cur = collection_name.find({\"NU_INSCRICAO\" : random_nu_inscricao})\n",
    "    \n",
    "    #print(len(list(cur)))\n",
    "    "
   ]
  },
  {
   "cell_type": "markdown",
   "id": "ad230712-06db-4aa8-bef0-787d7c26d814",
   "metadata": {},
   "source": [
    "### SELECT 2\n",
    "#### \"Selecionar todos os documentos em condição de 3 colunas \n",
    "#### (inscritos da região \"\"Sudeste\"\" e pais com curso superior ou pós graduação)\""
   ]
  },
  {
   "cell_type": "code",
   "execution_count": null,
   "id": "ea092af9-34a9-47a1-a6c1-e4aa9c2a4352",
   "metadata": {},
   "outputs": [],
   "source": [
    "%%time\n",
    "\n",
    "client = get_connection()\n",
    "dbname = create_database(client, 'db_enem_2021')\n",
    "collection_name = dbname[\"enem_2021\"]\n",
    "\n",
    "cur = collection_name.find(\n",
    "     { \"$and\": [{\"$or\": [{ \"Q001\": {\"$in\": [\"F\", \"G\"]} },\n",
    "                        { \"Q002\": {\"$in\": [\"F\", \"G\"]} }]},\n",
    "                 {\"regiao\" : \"SE\" },\n",
    "                 {\"NU_NOTA_REDACAO\" : { \"$gt\": 640}  }]\n",
    "     }\n",
    "    )\n",
    "\n",
    "\n",
    "client.close()"
   ]
  },
  {
   "cell_type": "markdown",
   "id": "5511eeb3-94a0-4bf6-81ad-1f7f8aa24bb6",
   "metadata": {},
   "source": [
    "### SELECT 3\n",
    "#### Fazer um agrupamento de formação dos pais e computador e contar quantos inscritos em cada grupo, com order by"
   ]
  },
  {
   "cell_type": "code",
   "execution_count": 26,
   "id": "4563bba6-7888-42da-9aa1-070ccac13dee",
   "metadata": {},
   "outputs": [
    {
     "name": "stdout",
     "output_type": "stream",
     "text": [
      "CPU times: user 18.5 ms, sys: 8.67 ms, total: 27.2 ms\n",
      "Wall time: 1.77 s\n"
     ]
    }
   ],
   "source": [
    "%%time\n",
    "\n",
    "client = get_connection()\n",
    "dbname = create_database(client, 'db_enem_2021')\n",
    "collection_name = dbname[\"enem_2021\"]\n",
    "\n",
    "\n",
    "cur = collection_name.aggregate([\n",
    "    {\n",
    "        \"$group\" : {\n",
    "            \"_id\" : { \"Q001\" : \"$Q001\"\n",
    "                     , \"Q002\" : \"$Q002\"\n",
    "#                     , \"Q002\" : \"$Q002\"\n",
    "                   , \"Q024\" : \"$Q024\"},\n",
    "            \"count\" : { \"$sum\" : 1}\n",
    "        }},\n",
    "        {\"$sort\" : {\"_id\" : 1}\n",
    "            \n",
    "        }])\n",
    "\n",
    "# for doc in cur: \n",
    "#     pprint(doc)\n",
    "\n",
    "client.close()"
   ]
  },
  {
   "cell_type": "markdown",
   "id": "5f35f81f-c061-44f6-9b8b-1118cf97b64f",
   "metadata": {},
   "source": [
    "### SELECT 4\n",
    "####  Consulta com GROUP BY, HAVING e SORT\n",
    "#### Recupera as regiões que possuem mais de 200.000 inscritos, com o resultado ordenado pelo nome da região\""
   ]
  },
  {
   "cell_type": "code",
   "execution_count": null,
   "id": "2ec89cab-6526-4fd7-870a-ca935379e971",
   "metadata": {},
   "outputs": [],
   "source": [
    "%%time\n",
    "\n",
    "client = get_connection()\n",
    "dbname = create_database(client, 'db_enem_2021')\n",
    "collection_name = dbname[\"enem_2021\"]\n",
    "\n",
    "\n",
    "cur = collection_name.aggregate([\n",
    "    {\n",
    "        \"$group\" : {\n",
    "            \"_id\" : { \"regiao\" : \"$regiao\"},\n",
    "            \"count\" : { \"$sum\" : 1}\n",
    "        }},\n",
    "        { '$match': { 'count': { '$gt': 200000 } } },\n",
    "        {\"$sort\" : {\"_id\" : 1}\n",
    "            \n",
    "        }])\n",
    "\n",
    "#for doc in cur: \n",
    "#    print(doc)\n",
    "\n",
    "client.close()"
   ]
  }
 ],
 "metadata": {
  "kernelspec": {
   "display_name": "mpca_bdm",
   "language": "python",
   "name": "mpca_bdm"
  },
  "language_info": {
   "codemirror_mode": {
    "name": "ipython",
    "version": 3
   },
   "file_extension": ".py",
   "mimetype": "text/x-python",
   "name": "python",
   "nbconvert_exporter": "python",
   "pygments_lexer": "ipython3",
   "version": "3.9.16"
  }
 },
 "nbformat": 4,
 "nbformat_minor": 5
}
